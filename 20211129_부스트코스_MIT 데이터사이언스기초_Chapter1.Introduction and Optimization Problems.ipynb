{
 "cells": [
  {
   "cell_type": "markdown",
   "metadata": {},
   "source": [
    "# 1. Data 만들기\n",
    "- Manu 판을 만들어서 Data 를 만들자"
   ]
  },
  {
   "cell_type": "code",
   "execution_count": 8,
   "metadata": {},
   "outputs": [
    {
     "name": "stdout",
     "output_type": "stream",
     "text": [
      "wine: <value : 89, calory : 123> \n",
      "beer: <value : 90, calory : 154> \n",
      "pizza: <value : 95, calory : 258> \n",
      "burger: <value : 100, calory : 354> \n",
      "fries: <value : 90, calory : 365> \n",
      "cola: <value : 79, calory : 150> \n",
      "apple: <value : 50, calory : 95> \n",
      "donut: <value : 10, calory : 195> \n"
     ]
    }
   ],
   "source": [
    "class Food() :\n",
    "    def __init__(self, name, value, calory) :\n",
    "        self.name = name\n",
    "        self.value = value\n",
    "        self.calories = calory\n",
    "    def getValue(self) :\n",
    "        return self.value\n",
    "    def getCost(self) :\n",
    "        return self.calories\n",
    "    def density (self) :\n",
    "        return self.getValue()/self.getCost()\n",
    "    def __str__(self) : # 이 object 를 print 하면 __str__ 이 자동 실행된다.\n",
    "        return self.name + \": <value : {a}, calory : {b}> \".format(a = str(self.value), b = str(self.calories))\n",
    "def buildMenu(names, values, calories):\n",
    "    menu = [Food(names[i], values[i],calories[i]) for i in range(len(values))]\n",
    "    return menu\n",
    "names    = ['wine', 'beer', 'pizza', 'burger', 'fries','cola', 'apple', 'donut', 'cake']\n",
    "values   = [89,90,95,100,90,79,50,10]\n",
    "calories = [123,154,258,354,365,150,95,195]\n",
    "foods    = buildMenu(names, values, calories)\n",
    "for food in foods :\n",
    "    print(food)"
   ]
  },
  {
   "cell_type": "markdown",
   "metadata": {},
   "source": [
    "# 2. GreedyAlgorithm 을 만들기"
   ]
  },
  {
   "cell_type": "code",
   "execution_count": 9,
   "metadata": {},
   "outputs": [],
   "source": [
    "def greedy(items, maxCost, keyFunction):\n",
    "    \"\"\"\n",
    "    Greedy Algorithm 은 (1) 목적 함수 (2) 제한 조건 을 정의해 주어야 한다. \n",
    "    keyfunction 은 Mapping 함수인데 이를 어떤 것으로 정의하느냐에 따라서 그 sort 가 달라지게 된다.\n",
    "    items 는 list 인데, list 의 배열도 dictionary 와 유사하게 해줄 수 있다.\n",
    "    \"\"\"\n",
    "    itemsCopy = sorted(items, key = keyFunction,reverse = True)\n",
    "    result = []\n",
    "    totalValue, totalCost = 0.0, 0.0\n",
    "    for i in range(len(itemsCopy)):\n",
    "        \"\"\"\n",
    "        totalCost+itemsCopy[i].getCost() 는 총 비용을 말한다.\n",
    "        즉, 총 비용이 제한조건보다 작은 경우에 계속 반복 연산한다.\n",
    "        \"\"\" \n",
    "        if (totalCost+itemsCopy[i].getCost()) <= maxCost:\n",
    "            result.append(itemsCopy[i])\n",
    "            totalCost += itemsCopy[i].getCost()\n",
    "            totalValue += itemsCopy[i].getValue()\n",
    "    return (result, totalValue)\n",
    "greedy(foods, maxCost, keyFunction)"
   ]
  },
  {
   "cell_type": "code",
   "execution_count": 20,
   "metadata": {},
   "outputs": [],
   "source": [
    "def testGreedy(items, constraint, keyFunction):\n",
    "    \"\"\"\n",
    "    greedy 알고리즘을 실행한다.\n",
    "    taken 은 리스트인데, maxCost 까지 가는 과정을 하나씩 담고 있따.\n",
    "    \"\"\"\n",
    "    taken, val = greedy(items, constraint, keyFunction)\n",
    "    print('Total value of items taken =', val)\n",
    "    for item in taken:\n",
    "        print('   ', item)"
   ]
  },
  {
   "cell_type": "code",
   "execution_count": 21,
   "metadata": {},
   "outputs": [
    {
     "name": "stdout",
     "output_type": "stream",
     "text": [
      "Total value of items taken = 424.0\n",
      "    burger: <value : 100, calory : 354> \n",
      "    pizza: <value : 95, calory : 258> \n",
      "    beer: <value : 90, calory : 154> \n",
      "    wine: <value : 89, calory : 123> \n",
      "    apple: <value : 50, calory : 95> \n"
     ]
    }
   ],
   "source": [
    "\"\"\" \n",
    "Food Class 는 이 음식점의 모든 음식들을 하나식 할당해 준다.\n",
    "Food Class 의 getValue 는 이 음식점의 각 음식들의 가치를 반환해 준다.\n",
    "testGreedys 함수에 getValue 를 인자로 넣어 주면, \n",
    "함수 안에서 greedy 함수를 호출할 때, keyFunction 으로 이를 사용하게 된다.\n",
    "즉 keyFunction 은 각 음식애서 value 에 mapping 시켜준다.\n",
    "greedy 함수에서는 이 mapping함수를 이용해서, 음식들을 배열하게 된다.\n",
    "즉, value 가 좋은 것부터 먼저 배열된다.\n",
    "list 를 sort 할 때도 dictionary sort 하는 것과 동일한 방식으로 할 수 있다.\n",
    "\n",
    "testGreedys 에서 constraint 로 1000을 넘겼다는 것은\n",
    "greedy 알고리즘에 들어갈 때 maxCost 로 1000로 사용한다는 것이다.\n",
    "즉, 10000 의 cost 를 넘지 않는 선에서 모든 연산을 계산하기 위해, \n",
    "우선 value  기준으로 배열시켜서 연산하게 되는 것이다.\n",
    "\"\"\"\n",
    "testGreedy(foods, 1000, Food.getValue)"
   ]
  },
  {
   "cell_type": "code",
   "execution_count": 22,
   "metadata": {},
   "outputs": [
    {
     "name": "stdout",
     "output_type": "stream",
     "text": [
      "Total value of items taken = 95.0\n",
      "    pizza: <value : 95, calory : 258> \n"
     ]
    }
   ],
   "source": [
    "# Max 를 줄여주면 가능한 것이 줄어듬을 확인할 수 있다.\n",
    "testGreedy(foods, 300, Food.getValue)"
   ]
  },
  {
   "cell_type": "code",
   "execution_count": 17,
   "metadata": {},
   "outputs": [
    {
     "data": {
      "text/plain": [
       "['버터플라이', '바나나', '사과', '귤']"
      ]
     },
     "execution_count": 17,
     "metadata": {},
     "output_type": "execute_result"
    }
   ],
   "source": [
    "a = ['바나나', '사과', '귤', '버터플라이']\n",
    "sorted(a, key = lambda x : len(x), reverse=True)"
   ]
  },
  {
   "cell_type": "code",
   "execution_count": 25,
   "metadata": {},
   "outputs": [],
   "source": [
    "def testGreedys(foods, maxUnits):\n",
    "    # ======================================================================================\n",
    "    print('Value 가 {maxUnits} to allocate calories'.format(maxUnits=maxUnits))\n",
    "    testGreedy(foods, maxUnits, Food.getValue)\n",
    "    # ======================================================================================\n",
    "    print('Cost = {maxUnits} 을 기준으로 할 때'.format(maxUnits=maxUnits))\n",
    "    \"\"\"    cost 가 작은 것이 좋은 것이므로, value 와 반대로 써준다.    \"\"\"\n",
    "    testGreedy(foods, maxUnits,lambda x: 1/Food.getCost(x))\n",
    "    # ======================================================================================\n",
    "    print('밀도를 기준으로 할 때이다. 밀도도 Cost 와 기준 방향은 같다.')\n",
    "    testGreedy(foods, maxUnits, Food.density)\n",
    "    # ======================================================================================"
   ]
  },
  {
   "cell_type": "code",
   "execution_count": 26,
   "metadata": {},
   "outputs": [
    {
     "name": "stdout",
     "output_type": "stream",
     "text": [
      "Value 가 1000 to allocate calories\n",
      "Total value of items taken = 424.0\n",
      "    burger: <value : 100, calory : 354> \n",
      "    pizza: <value : 95, calory : 258> \n",
      "    beer: <value : 90, calory : 154> \n",
      "    wine: <value : 89, calory : 123> \n",
      "    apple: <value : 50, calory : 95> \n",
      "Cost = 1000 을 기준으로 할 때\n",
      "Total value of items taken = 413.0\n",
      "    apple: <value : 50, calory : 95> \n",
      "    wine: <value : 89, calory : 123> \n",
      "    cola: <value : 79, calory : 150> \n",
      "    beer: <value : 90, calory : 154> \n",
      "    donut: <value : 10, calory : 195> \n",
      "    pizza: <value : 95, calory : 258> \n",
      "밀도를 기준으로 할 때이다. 밀도도 Cost 와 기준 방향은 같다.\n",
      "Total value of items taken = 413.0\n",
      "    wine: <value : 89, calory : 123> \n",
      "    beer: <value : 90, calory : 154> \n",
      "    cola: <value : 79, calory : 150> \n",
      "    apple: <value : 50, calory : 95> \n",
      "    pizza: <value : 95, calory : 258> \n",
      "    donut: <value : 10, calory : 195> \n"
     ]
    }
   ],
   "source": [
    "testGreedys(foods, 1000)"
   ]
  },
  {
   "cell_type": "code",
   "execution_count": null,
   "metadata": {},
   "outputs": [],
   "source": []
  }
 ],
 "metadata": {
  "kernelspec": {
   "display_name": "Python 3",
   "language": "python",
   "name": "python3"
  },
  "language_info": {
   "codemirror_mode": {
    "name": "ipython",
    "version": 3
   },
   "file_extension": ".py",
   "mimetype": "text/x-python",
   "name": "python",
   "nbconvert_exporter": "python",
   "pygments_lexer": "ipython3",
   "version": "3.8.5"
  }
 },
 "nbformat": 4,
 "nbformat_minor": 4
}
